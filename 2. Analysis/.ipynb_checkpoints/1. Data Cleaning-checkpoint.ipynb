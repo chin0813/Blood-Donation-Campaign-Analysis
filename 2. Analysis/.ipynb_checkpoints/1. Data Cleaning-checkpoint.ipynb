{
 "cells": [
  {
   "cell_type": "markdown",
   "metadata": {},
   "source": [
    "# 1. Data Cleaning"
   ]
  },
  {
   "cell_type": "markdown",
   "metadata": {},
   "source": [
    "## Import Packages and Defining Helper Functions"
   ]
  },
  {
   "cell_type": "markdown",
   "metadata": {
    "heading_collapsed": true
   },
   "source": [
    "### Import Packages"
   ]
  },
  {
   "cell_type": "code",
   "execution_count": 50,
   "metadata": {
    "hidden": true
   },
   "outputs": [],
   "source": [
    "# import required packages\n",
    "#warnings :)\n",
    "import warnings\n",
    "warnings.filterwarnings('ignore')\n",
    "\n",
    "# for df purpose\n",
    "import pandas as pd\n",
    "import numpy as np\n",
    "from tqdm.auto import tqdm\n",
    "tqdm.pandas()\n",
    "\n",
    "# for text processing\n",
    "import nltk\n",
    "import re\n",
    "import string\n",
    "from google_trans_new import google_translator\n",
    "\n",
    "# for graph plotting / visualisation\n",
    "import matplotlib.pyplot as plt\n",
    "import seaborn as sns\n",
    "%matplotlib inline\n",
    "from wordcloud import WordCloud, STOPWORDS, ImageColorGenerator\n",
    "\n",
    "#for storing intermediate results\n",
    "import pickle\n",
    "\n",
    "# for notebook function\n",
    "from IPython.display import display, clear_output\n",
    "import time\n",
    "from multiprocessing.dummy import Pool as ThreadPool"
   ]
  },
  {
   "cell_type": "markdown",
   "metadata": {
    "heading_collapsed": true
   },
   "source": [
    "### Helper Functions"
   ]
  },
  {
   "cell_type": "code",
   "execution_count": 2,
   "metadata": {
    "hidden": true
   },
   "outputs": [],
   "source": [
    "def print_bold(text):\n",
    "    text_bold = '\\x1b[1;30;47m'+text+ '\\x1b[0m'\n",
    "    print(text_bold)\n",
    "def glance(x,n=5):\n",
    "    try:\n",
    "        iterator = iter(x)\n",
    "    except:\n",
    "        print(x)\n",
    "        return\n",
    "    else:\n",
    "        if type(x) == str or len(str(x)) <= 50:\n",
    "            print(x)\n",
    "            return\n",
    "        if type(x) == dict:\n",
    "            iterator = x.items()\n",
    "        i = 0\n",
    "        for ele in iterator:\n",
    "            if i >= n:\n",
    "                break\n",
    "            glance(ele,n)\n",
    "            i += 1"
   ]
  },
  {
   "cell_type": "markdown",
   "metadata": {
    "heading_collapsed": true
   },
   "source": [
    "## Read Data"
   ]
  },
  {
   "cell_type": "code",
   "execution_count": 16,
   "metadata": {
    "hidden": true
   },
   "outputs": [
    {
     "data": {
      "text/html": [
       "<div>\n",
       "<style scoped>\n",
       "    .dataframe tbody tr th:only-of-type {\n",
       "        vertical-align: middle;\n",
       "    }\n",
       "\n",
       "    .dataframe tbody tr th {\n",
       "        vertical-align: top;\n",
       "    }\n",
       "\n",
       "    .dataframe thead th {\n",
       "        text-align: right;\n",
       "    }\n",
       "</style>\n",
       "<table border=\"1\" class=\"dataframe\">\n",
       "  <thead>\n",
       "    <tr style=\"text-align: right;\">\n",
       "      <th></th>\n",
       "      <th>comment</th>\n",
       "      <th>date</th>\n",
       "      <th>filters</th>\n",
       "      <th>page_id</th>\n",
       "      <th>page_name</th>\n",
       "      <th>raw</th>\n",
       "      <th>reaction</th>\n",
       "      <th>search_term</th>\n",
       "      <th>share</th>\n",
       "      <th>title</th>\n",
       "    </tr>\n",
       "  </thead>\n",
       "  <tbody>\n",
       "    <tr>\n",
       "      <td>0</td>\n",
       "      <td>8.0</td>\n",
       "      <td>30 Jan 2015</td>\n",
       "      <td>eyJycF9jcmVhdGlvbl90aW1lOjAiOiJ7XCJuYW1lXCI6XC...</td>\n",
       "      <td>373560576236</td>\n",
       "      <td>KEMENTERIAN KESIHATAN MALAYSIA</td>\n",
       "      <td>KEMENTERIAN KESIHATAN MALAYSIA\\nPage · 3.4M li...</td>\n",
       "      <td>364</td>\n",
       "      <td>Blood Donation</td>\n",
       "      <td>NaN</td>\n",
       "      <td>Schedule &amp; Location of Blood Donation Campaign...</td>\n",
       "    </tr>\n",
       "    <tr>\n",
       "      <td>1</td>\n",
       "      <td>1.0</td>\n",
       "      <td>11 Dec 2015</td>\n",
       "      <td>eyJycF9jcmVhdGlvbl90aW1lOjAiOiJ7XCJuYW1lXCI6XC...</td>\n",
       "      <td>373560576236</td>\n",
       "      <td>KEMENTERIAN KESIHATAN MALAYSIA</td>\n",
       "      <td>KEMENTERIAN KESIHATAN MALAYSIA\\nPage · 3.4M li...</td>\n",
       "      <td>391</td>\n",
       "      <td>Blood Donation</td>\n",
       "      <td>NaN</td>\n",
       "      <td>\"Donating blood is not a right. It's a privile...</td>\n",
       "    </tr>\n",
       "    <tr>\n",
       "      <td>2</td>\n",
       "      <td>NaN</td>\n",
       "      <td>24 Jul 2015</td>\n",
       "      <td>eyJycF9jcmVhdGlvbl90aW1lOjAiOiJ7XCJuYW1lXCI6XC...</td>\n",
       "      <td>373560576236</td>\n",
       "      <td>KEMENTERIAN KESIHATAN MALAYSIA</td>\n",
       "      <td>KEMENTERIAN KESIHATAN MALAYSIA\\nPage · 3.4M li...</td>\n",
       "      <td>NaN</td>\n",
       "      <td>Blood Donation</td>\n",
       "      <td>NaN</td>\n",
       "      <td>Did you know where your donated blood goes?</td>\n",
       "    </tr>\n",
       "    <tr>\n",
       "      <td>3</td>\n",
       "      <td>6.0</td>\n",
       "      <td>16 Nov 2015</td>\n",
       "      <td>eyJycF9jcmVhdGlvbl90aW1lOjAiOiJ7XCJuYW1lXCI6XC...</td>\n",
       "      <td>373560576236</td>\n",
       "      <td>KEMENTERIAN KESIHATAN MALAYSIA</td>\n",
       "      <td>KEMENTERIAN KESIHATAN MALAYSIA\\nPage · 3.4M li...</td>\n",
       "      <td>142</td>\n",
       "      <td>Blood Donation</td>\n",
       "      <td>NaN</td>\n",
       "      <td>“You’re Somebody’s Type” Blood Donation Drive ...</td>\n",
       "    </tr>\n",
       "    <tr>\n",
       "      <td>4</td>\n",
       "      <td>NaN</td>\n",
       "      <td>3 Apr 2015</td>\n",
       "      <td>eyJycF9jcmVhdGlvbl90aW1lOjAiOiJ7XCJuYW1lXCI6XC...</td>\n",
       "      <td>373560576236</td>\n",
       "      <td>KEMENTERIAN KESIHATAN MALAYSIA</td>\n",
       "      <td>KEMENTERIAN KESIHATAN MALAYSIA\\nPage · 3.4M li...</td>\n",
       "      <td>NaN</td>\n",
       "      <td>Blood Donation</td>\n",
       "      <td>NaN</td>\n",
       "      <td>…how to use mosquito fogging guns and donate b...</td>\n",
       "    </tr>\n",
       "    <tr>\n",
       "      <td>...</td>\n",
       "      <td>...</td>\n",
       "      <td>...</td>\n",
       "      <td>...</td>\n",
       "      <td>...</td>\n",
       "      <td>...</td>\n",
       "      <td>...</td>\n",
       "      <td>...</td>\n",
       "      <td>...</td>\n",
       "      <td>...</td>\n",
       "      <td>...</td>\n",
       "    </tr>\n",
       "    <tr>\n",
       "      <td>3887</td>\n",
       "      <td>NaN</td>\n",
       "      <td>15 Jul 2018</td>\n",
       "      <td>eyJycF9jcmVhdGlvbl90aW1lOjAiOiJ7XCJuYW1lXCI6XC...</td>\n",
       "      <td>162679250462156</td>\n",
       "      <td>Blood Donation Campaign Malaysia ????????</td>\n",
       "      <td>Blood Donation Campaign Malaysia 马来西亚捐血运动\\nPag...</td>\n",
       "      <td>NaN</td>\n",
       "      <td>Derma Darah</td>\n",
       "      <td>NaN</td>\n",
       "      <td>Jadual Kempen Derma Darah 16 Julai 2018 (Isnin...</td>\n",
       "    </tr>\n",
       "    <tr>\n",
       "      <td>3888</td>\n",
       "      <td>1.0</td>\n",
       "      <td>2 Jul 2018</td>\n",
       "      <td>eyJycF9jcmVhdGlvbl90aW1lOjAiOiJ7XCJuYW1lXCI6XC...</td>\n",
       "      <td>162679250462156</td>\n",
       "      <td>Blood Donation Campaign Malaysia ????????</td>\n",
       "      <td>Blood Donation Campaign Malaysia 马来西亚捐血运动\\nPag...</td>\n",
       "      <td>12</td>\n",
       "      <td>Derma Darah</td>\n",
       "      <td>NaN</td>\n",
       "      <td>SELANGOR JADUAL KEMPEN DERMA DARAH 02 JUL - 08...</td>\n",
       "    </tr>\n",
       "    <tr>\n",
       "      <td>3889</td>\n",
       "      <td>NaN</td>\n",
       "      <td>25 Jul 2018</td>\n",
       "      <td>eyJycF9jcmVhdGlvbl90aW1lOjAiOiJ7XCJuYW1lXCI6XC...</td>\n",
       "      <td>162679250462156</td>\n",
       "      <td>Blood Donation Campaign Malaysia ????????</td>\n",
       "      <td>Blood Donation Campaign Malaysia 马来西亚捐血运动\\nPag...</td>\n",
       "      <td>7</td>\n",
       "      <td>Derma Darah</td>\n",
       "      <td>4.0</td>\n",
       "      <td>Jadual Kempen Derma Darah 26 Julai 2018 (Khami...</td>\n",
       "    </tr>\n",
       "    <tr>\n",
       "      <td>3890</td>\n",
       "      <td>NaN</td>\n",
       "      <td>19 Jul 2018</td>\n",
       "      <td>eyJycF9jcmVhdGlvbl90aW1lOjAiOiJ7XCJuYW1lXCI6XC...</td>\n",
       "      <td>162679250462156</td>\n",
       "      <td>Blood Donation Campaign Malaysia ????????</td>\n",
       "      <td>Blood Donation Campaign Malaysia 马来西亚捐血运动\\nPag...</td>\n",
       "      <td>13</td>\n",
       "      <td>Derma Darah</td>\n",
       "      <td>1.0</td>\n",
       "      <td>Jadual Kempen Derma Darah 20 Julai 2018 (Jumaa...</td>\n",
       "    </tr>\n",
       "    <tr>\n",
       "      <td>3891</td>\n",
       "      <td>1.0</td>\n",
       "      <td>11 Jun 2018</td>\n",
       "      <td>eyJycF9jcmVhdGlvbl90aW1lOjAiOiJ7XCJuYW1lXCI6XC...</td>\n",
       "      <td>162679250462156</td>\n",
       "      <td>Blood Donation Campaign Malaysia ????????</td>\n",
       "      <td>Blood Donation Campaign Malaysia 马来西亚捐血运动\\nPag...</td>\n",
       "      <td>10</td>\n",
       "      <td>Derma Darah</td>\n",
       "      <td>NaN</td>\n",
       "      <td>SELANGOR JADUAL KEMPEN DERMA DARAH 11 JUN - 17...</td>\n",
       "    </tr>\n",
       "  </tbody>\n",
       "</table>\n",
       "<p>3892 rows × 10 columns</p>\n",
       "</div>"
      ],
      "text/plain": [
       "      comment         date                                            filters  \\\n",
       "0         8.0  30 Jan 2015  eyJycF9jcmVhdGlvbl90aW1lOjAiOiJ7XCJuYW1lXCI6XC...   \n",
       "1         1.0  11 Dec 2015  eyJycF9jcmVhdGlvbl90aW1lOjAiOiJ7XCJuYW1lXCI6XC...   \n",
       "2         NaN  24 Jul 2015  eyJycF9jcmVhdGlvbl90aW1lOjAiOiJ7XCJuYW1lXCI6XC...   \n",
       "3         6.0  16 Nov 2015  eyJycF9jcmVhdGlvbl90aW1lOjAiOiJ7XCJuYW1lXCI6XC...   \n",
       "4         NaN   3 Apr 2015  eyJycF9jcmVhdGlvbl90aW1lOjAiOiJ7XCJuYW1lXCI6XC...   \n",
       "...       ...          ...                                                ...   \n",
       "3887      NaN  15 Jul 2018  eyJycF9jcmVhdGlvbl90aW1lOjAiOiJ7XCJuYW1lXCI6XC...   \n",
       "3888      1.0   2 Jul 2018  eyJycF9jcmVhdGlvbl90aW1lOjAiOiJ7XCJuYW1lXCI6XC...   \n",
       "3889      NaN  25 Jul 2018  eyJycF9jcmVhdGlvbl90aW1lOjAiOiJ7XCJuYW1lXCI6XC...   \n",
       "3890      NaN  19 Jul 2018  eyJycF9jcmVhdGlvbl90aW1lOjAiOiJ7XCJuYW1lXCI6XC...   \n",
       "3891      1.0  11 Jun 2018  eyJycF9jcmVhdGlvbl90aW1lOjAiOiJ7XCJuYW1lXCI6XC...   \n",
       "\n",
       "              page_id                                  page_name  \\\n",
       "0        373560576236             KEMENTERIAN KESIHATAN MALAYSIA   \n",
       "1        373560576236             KEMENTERIAN KESIHATAN MALAYSIA   \n",
       "2        373560576236             KEMENTERIAN KESIHATAN MALAYSIA   \n",
       "3        373560576236             KEMENTERIAN KESIHATAN MALAYSIA   \n",
       "4        373560576236             KEMENTERIAN KESIHATAN MALAYSIA   \n",
       "...               ...                                        ...   \n",
       "3887  162679250462156  Blood Donation Campaign Malaysia ????????   \n",
       "3888  162679250462156  Blood Donation Campaign Malaysia ????????   \n",
       "3889  162679250462156  Blood Donation Campaign Malaysia ????????   \n",
       "3890  162679250462156  Blood Donation Campaign Malaysia ????????   \n",
       "3891  162679250462156  Blood Donation Campaign Malaysia ????????   \n",
       "\n",
       "                                                    raw reaction  \\\n",
       "0     KEMENTERIAN KESIHATAN MALAYSIA\\nPage · 3.4M li...      364   \n",
       "1     KEMENTERIAN KESIHATAN MALAYSIA\\nPage · 3.4M li...      391   \n",
       "2     KEMENTERIAN KESIHATAN MALAYSIA\\nPage · 3.4M li...      NaN   \n",
       "3     KEMENTERIAN KESIHATAN MALAYSIA\\nPage · 3.4M li...      142   \n",
       "4     KEMENTERIAN KESIHATAN MALAYSIA\\nPage · 3.4M li...      NaN   \n",
       "...                                                 ...      ...   \n",
       "3887  Blood Donation Campaign Malaysia 马来西亚捐血运动\\nPag...      NaN   \n",
       "3888  Blood Donation Campaign Malaysia 马来西亚捐血运动\\nPag...       12   \n",
       "3889  Blood Donation Campaign Malaysia 马来西亚捐血运动\\nPag...        7   \n",
       "3890  Blood Donation Campaign Malaysia 马来西亚捐血运动\\nPag...       13   \n",
       "3891  Blood Donation Campaign Malaysia 马来西亚捐血运动\\nPag...       10   \n",
       "\n",
       "         search_term  share                                              title  \n",
       "0     Blood Donation    NaN  Schedule & Location of Blood Donation Campaign...  \n",
       "1     Blood Donation    NaN  \"Donating blood is not a right. It's a privile...  \n",
       "2     Blood Donation    NaN        Did you know where your donated blood goes?  \n",
       "3     Blood Donation    NaN  “You’re Somebody’s Type” Blood Donation Drive ...  \n",
       "4     Blood Donation    NaN  …how to use mosquito fogging guns and donate b...  \n",
       "...              ...    ...                                                ...  \n",
       "3887     Derma Darah    NaN  Jadual Kempen Derma Darah 16 Julai 2018 (Isnin...  \n",
       "3888     Derma Darah    NaN  SELANGOR JADUAL KEMPEN DERMA DARAH 02 JUL - 08...  \n",
       "3889     Derma Darah    4.0  Jadual Kempen Derma Darah 26 Julai 2018 (Khami...  \n",
       "3890     Derma Darah    1.0  Jadual Kempen Derma Darah 20 Julai 2018 (Jumaa...  \n",
       "3891     Derma Darah    NaN  SELANGOR JADUAL KEMPEN DERMA DARAH 11 JUN - 17...  \n",
       "\n",
       "[3892 rows x 10 columns]"
      ]
     },
     "execution_count": 16,
     "metadata": {},
     "output_type": "execute_result"
    }
   ],
   "source": [
    "df = pd.read_csv('data/facebook_data.csv',index_col=0)\n",
    "df"
   ]
  },
  {
   "cell_type": "code",
   "execution_count": 25,
   "metadata": {
    "hidden": true
   },
   "outputs": [
    {
     "data": {
      "text/html": [
       "<div>\n",
       "<style scoped>\n",
       "    .dataframe tbody tr th:only-of-type {\n",
       "        vertical-align: middle;\n",
       "    }\n",
       "\n",
       "    .dataframe tbody tr th {\n",
       "        vertical-align: top;\n",
       "    }\n",
       "\n",
       "    .dataframe thead th {\n",
       "        text-align: right;\n",
       "    }\n",
       "</style>\n",
       "<table border=\"1\" class=\"dataframe\">\n",
       "  <thead>\n",
       "    <tr style=\"text-align: right;\">\n",
       "      <th></th>\n",
       "      <th>comment</th>\n",
       "      <th>page_id</th>\n",
       "      <th>share</th>\n",
       "    </tr>\n",
       "  </thead>\n",
       "  <tbody>\n",
       "    <tr>\n",
       "      <td>count</td>\n",
       "      <td>2169.000000</td>\n",
       "      <td>3.892000e+03</td>\n",
       "      <td>873.000000</td>\n",
       "    </tr>\n",
       "    <tr>\n",
       "      <td>mean</td>\n",
       "      <td>21.158598</td>\n",
       "      <td>4.407668e+14</td>\n",
       "      <td>5.676976</td>\n",
       "    </tr>\n",
       "    <tr>\n",
       "      <td>std</td>\n",
       "      <td>66.889826</td>\n",
       "      <td>2.838738e+14</td>\n",
       "      <td>9.159576</td>\n",
       "    </tr>\n",
       "    <tr>\n",
       "      <td>min</td>\n",
       "      <td>0.000000</td>\n",
       "      <td>2.886973e+11</td>\n",
       "      <td>1.000000</td>\n",
       "    </tr>\n",
       "    <tr>\n",
       "      <td>25%</td>\n",
       "      <td>2.000000</td>\n",
       "      <td>2.088942e+14</td>\n",
       "      <td>1.000000</td>\n",
       "    </tr>\n",
       "    <tr>\n",
       "      <td>50%</td>\n",
       "      <td>5.000000</td>\n",
       "      <td>4.744189e+14</td>\n",
       "      <td>3.000000</td>\n",
       "    </tr>\n",
       "    <tr>\n",
       "      <td>75%</td>\n",
       "      <td>13.000000</td>\n",
       "      <td>6.176043e+14</td>\n",
       "      <td>6.000000</td>\n",
       "    </tr>\n",
       "    <tr>\n",
       "      <td>max</td>\n",
       "      <td>887.000000</td>\n",
       "      <td>9.674363e+14</td>\n",
       "      <td>137.000000</td>\n",
       "    </tr>\n",
       "  </tbody>\n",
       "</table>\n",
       "</div>"
      ],
      "text/plain": [
       "           comment       page_id       share\n",
       "count  2169.000000  3.892000e+03  873.000000\n",
       "mean     21.158598  4.407668e+14    5.676976\n",
       "std      66.889826  2.838738e+14    9.159576\n",
       "min       0.000000  2.886973e+11    1.000000\n",
       "25%       2.000000  2.088942e+14    1.000000\n",
       "50%       5.000000  4.744189e+14    3.000000\n",
       "75%      13.000000  6.176043e+14    6.000000\n",
       "max     887.000000  9.674363e+14  137.000000"
      ]
     },
     "execution_count": 25,
     "metadata": {},
     "output_type": "execute_result"
    }
   ],
   "source": [
    "df.describe()"
   ]
  },
  {
   "cell_type": "code",
   "execution_count": 26,
   "metadata": {
    "hidden": true
   },
   "outputs": [
    {
     "data": {
      "text/plain": [
       "comment        float64\n",
       "date            object\n",
       "filters         object\n",
       "page_id          int64\n",
       "page_name       object\n",
       "raw             object\n",
       "reaction        object\n",
       "search_term     object\n",
       "share          float64\n",
       "title           object\n",
       "dtype: object"
      ]
     },
     "execution_count": 26,
     "metadata": {},
     "output_type": "execute_result"
    }
   ],
   "source": [
    "df.dtypes"
   ]
  },
  {
   "cell_type": "markdown",
   "metadata": {
    "heading_collapsed": true
   },
   "source": [
    "## Normal Data Cleaning"
   ]
  },
  {
   "cell_type": "code",
   "execution_count": 18,
   "metadata": {
    "hidden": true
   },
   "outputs": [
    {
     "name": "stdout",
     "output_type": "stream",
     "text": [
      "comment        1723\n",
      "date              0\n",
      "filters           0\n",
      "page_id           0\n",
      "page_name         0\n",
      "raw               0\n",
      "reaction        863\n",
      "search_term       0\n",
      "share          3019\n",
      "title           166\n",
      "dtype: int64\n"
     ]
    }
   ],
   "source": [
    "# check NA\n",
    "print(df.isna().sum())"
   ]
  },
  {
   "cell_type": "code",
   "execution_count": 19,
   "metadata": {
    "hidden": true
   },
   "outputs": [
    {
     "data": {
      "text/plain": [
       "comment        1567\n",
       "date              0\n",
       "filters           0\n",
       "page_id           0\n",
       "page_name         0\n",
       "raw               0\n",
       "reaction        722\n",
       "search_term       0\n",
       "share          2868\n",
       "title             0\n",
       "dtype: int64"
      ]
     },
     "execution_count": 19,
     "metadata": {},
     "output_type": "execute_result"
    }
   ],
   "source": [
    "# remove posts with no title\n",
    "df1 = df.dropna(subset=['title'])\n",
    "df1.isna().sum()"
   ]
  },
  {
   "cell_type": "code",
   "execution_count": 93,
   "metadata": {
    "hidden": true
   },
   "outputs": [
    {
     "data": {
      "text/plain": [
       "comment        0\n",
       "date           0\n",
       "filters        0\n",
       "page_id        0\n",
       "page_name      0\n",
       "raw            0\n",
       "reaction       0\n",
       "search_term    0\n",
       "share          0\n",
       "title          0\n",
       "dtype: int64"
      ]
     },
     "execution_count": 93,
     "metadata": {},
     "output_type": "execute_result"
    }
   ],
   "source": [
    "# replace NA values in comment, reaction, and share with 0\n",
    "df2 = df1.fillna(0)\n",
    "df2.isna().sum()"
   ]
  },
  {
   "cell_type": "code",
   "execution_count": 94,
   "metadata": {
    "hidden": true
   },
   "outputs": [
    {
     "data": {
      "text/plain": [
       "comment         int64\n",
       "date           object\n",
       "filters        object\n",
       "page_id         int64\n",
       "page_name      object\n",
       "raw            object\n",
       "reaction       object\n",
       "search_term    object\n",
       "share           int64\n",
       "title          object\n",
       "dtype: object"
      ]
     },
     "execution_count": 94,
     "metadata": {},
     "output_type": "execute_result"
    }
   ],
   "source": [
    "# convert comments and share counts to integer\n",
    "df2['comment'] = df2['comment'].apply(int)\n",
    "df2['share'] = df2['share'].apply(int)\n",
    "df2.dtypes"
   ]
  },
  {
   "cell_type": "code",
   "execution_count": 95,
   "metadata": {
    "hidden": true
   },
   "outputs": [
    {
     "data": {
      "text/plain": [
       "comment                 int64\n",
       "date           datetime64[ns]\n",
       "filters                object\n",
       "page_id                 int64\n",
       "page_name              object\n",
       "raw                    object\n",
       "reaction               object\n",
       "search_term            object\n",
       "share                   int64\n",
       "title                  object\n",
       "dtype: object"
      ]
     },
     "execution_count": 95,
     "metadata": {},
     "output_type": "execute_result"
    }
   ],
   "source": [
    "df2['date'] = pd.to_datetime(df2['date'])\n",
    "df2.dtypes"
   ]
  },
  {
   "cell_type": "code",
   "execution_count": 96,
   "metadata": {
    "hidden": true
   },
   "outputs": [
    {
     "data": {
      "text/html": [
       "<div>\n",
       "<style scoped>\n",
       "    .dataframe tbody tr th:only-of-type {\n",
       "        vertical-align: middle;\n",
       "    }\n",
       "\n",
       "    .dataframe tbody tr th {\n",
       "        vertical-align: top;\n",
       "    }\n",
       "\n",
       "    .dataframe thead th {\n",
       "        text-align: right;\n",
       "    }\n",
       "</style>\n",
       "<table border=\"1\" class=\"dataframe\">\n",
       "  <thead>\n",
       "    <tr style=\"text-align: right;\">\n",
       "      <th></th>\n",
       "      <th>comment</th>\n",
       "      <th>date</th>\n",
       "      <th>filters</th>\n",
       "      <th>page_id</th>\n",
       "      <th>page_name</th>\n",
       "      <th>raw</th>\n",
       "      <th>reaction</th>\n",
       "      <th>search_term</th>\n",
       "      <th>share</th>\n",
       "      <th>title</th>\n",
       "    </tr>\n",
       "  </thead>\n",
       "  <tbody>\n",
       "    <tr>\n",
       "      <td>count</td>\n",
       "      <td>3726.000000</td>\n",
       "      <td>3726</td>\n",
       "      <td>3726</td>\n",
       "      <td>3.726000e+03</td>\n",
       "      <td>3726</td>\n",
       "      <td>3726</td>\n",
       "      <td>3726.0</td>\n",
       "      <td>3726</td>\n",
       "      <td>3726.000000</td>\n",
       "      <td>3726</td>\n",
       "    </tr>\n",
       "    <tr>\n",
       "      <td>unique</td>\n",
       "      <td>NaN</td>\n",
       "      <td>1434</td>\n",
       "      <td>5</td>\n",
       "      <td>NaN</td>\n",
       "      <td>16</td>\n",
       "      <td>3642</td>\n",
       "      <td>368.0</td>\n",
       "      <td>2</td>\n",
       "      <td>NaN</td>\n",
       "      <td>3221</td>\n",
       "    </tr>\n",
       "    <tr>\n",
       "      <td>top</td>\n",
       "      <td>NaN</td>\n",
       "      <td>2018-09-13 00:00:00</td>\n",
       "      <td>eyJycF9jcmVhdGlvbl90aW1lOjAiOiJ7XCJuYW1lXCI6XC...</td>\n",
       "      <td>NaN</td>\n",
       "      <td>Pusat Darah Negara Kementerian Kesihatan Malaysia</td>\n",
       "      <td>Jadual Kempen Derma Darah Johor Bahru\\n30K lik...</td>\n",
       "      <td>0.0</td>\n",
       "      <td>Derma Darah</td>\n",
       "      <td>NaN</td>\n",
       "      <td>…\"Like &amp; Follow \"untuk info terkini mengenai d...</td>\n",
       "    </tr>\n",
       "    <tr>\n",
       "      <td>freq</td>\n",
       "      <td>NaN</td>\n",
       "      <td>12</td>\n",
       "      <td>869</td>\n",
       "      <td>NaN</td>\n",
       "      <td>471</td>\n",
       "      <td>2</td>\n",
       "      <td>722.0</td>\n",
       "      <td>2393</td>\n",
       "      <td>NaN</td>\n",
       "      <td>43</td>\n",
       "    </tr>\n",
       "    <tr>\n",
       "      <td>first</td>\n",
       "      <td>NaN</td>\n",
       "      <td>2015-01-01 00:00:00</td>\n",
       "      <td>NaN</td>\n",
       "      <td>NaN</td>\n",
       "      <td>NaN</td>\n",
       "      <td>NaN</td>\n",
       "      <td>NaN</td>\n",
       "      <td>NaN</td>\n",
       "      <td>NaN</td>\n",
       "      <td>NaN</td>\n",
       "    </tr>\n",
       "    <tr>\n",
       "      <td>last</td>\n",
       "      <td>NaN</td>\n",
       "      <td>2019-12-31 00:00:00</td>\n",
       "      <td>NaN</td>\n",
       "      <td>NaN</td>\n",
       "      <td>NaN</td>\n",
       "      <td>NaN</td>\n",
       "      <td>NaN</td>\n",
       "      <td>NaN</td>\n",
       "      <td>NaN</td>\n",
       "      <td>NaN</td>\n",
       "    </tr>\n",
       "    <tr>\n",
       "      <td>mean</td>\n",
       "      <td>12.301396</td>\n",
       "      <td>NaN</td>\n",
       "      <td>NaN</td>\n",
       "      <td>4.287853e+14</td>\n",
       "      <td>NaN</td>\n",
       "      <td>NaN</td>\n",
       "      <td>NaN</td>\n",
       "      <td>NaN</td>\n",
       "      <td>1.310252</td>\n",
       "      <td>NaN</td>\n",
       "    </tr>\n",
       "    <tr>\n",
       "      <td>std</td>\n",
       "      <td>52.087151</td>\n",
       "      <td>NaN</td>\n",
       "      <td>NaN</td>\n",
       "      <td>2.789353e+14</td>\n",
       "      <td>NaN</td>\n",
       "      <td>NaN</td>\n",
       "      <td>NaN</td>\n",
       "      <td>NaN</td>\n",
       "      <td>5.026356</td>\n",
       "      <td>NaN</td>\n",
       "    </tr>\n",
       "    <tr>\n",
       "      <td>min</td>\n",
       "      <td>0.000000</td>\n",
       "      <td>NaN</td>\n",
       "      <td>NaN</td>\n",
       "      <td>2.886973e+11</td>\n",
       "      <td>NaN</td>\n",
       "      <td>NaN</td>\n",
       "      <td>NaN</td>\n",
       "      <td>NaN</td>\n",
       "      <td>0.000000</td>\n",
       "      <td>NaN</td>\n",
       "    </tr>\n",
       "    <tr>\n",
       "      <td>25%</td>\n",
       "      <td>0.000000</td>\n",
       "      <td>NaN</td>\n",
       "      <td>NaN</td>\n",
       "      <td>1.626793e+14</td>\n",
       "      <td>NaN</td>\n",
       "      <td>NaN</td>\n",
       "      <td>NaN</td>\n",
       "      <td>NaN</td>\n",
       "      <td>0.000000</td>\n",
       "      <td>NaN</td>\n",
       "    </tr>\n",
       "    <tr>\n",
       "      <td>50%</td>\n",
       "      <td>1.000000</td>\n",
       "      <td>NaN</td>\n",
       "      <td>NaN</td>\n",
       "      <td>4.028069e+14</td>\n",
       "      <td>NaN</td>\n",
       "      <td>NaN</td>\n",
       "      <td>NaN</td>\n",
       "      <td>NaN</td>\n",
       "      <td>0.000000</td>\n",
       "      <td>NaN</td>\n",
       "    </tr>\n",
       "    <tr>\n",
       "      <td>75%</td>\n",
       "      <td>6.000000</td>\n",
       "      <td>NaN</td>\n",
       "      <td>NaN</td>\n",
       "      <td>6.176043e+14</td>\n",
       "      <td>NaN</td>\n",
       "      <td>NaN</td>\n",
       "      <td>NaN</td>\n",
       "      <td>NaN</td>\n",
       "      <td>0.000000</td>\n",
       "      <td>NaN</td>\n",
       "    </tr>\n",
       "    <tr>\n",
       "      <td>max</td>\n",
       "      <td>887.000000</td>\n",
       "      <td>NaN</td>\n",
       "      <td>NaN</td>\n",
       "      <td>9.674363e+14</td>\n",
       "      <td>NaN</td>\n",
       "      <td>NaN</td>\n",
       "      <td>NaN</td>\n",
       "      <td>NaN</td>\n",
       "      <td>137.000000</td>\n",
       "      <td>NaN</td>\n",
       "    </tr>\n",
       "  </tbody>\n",
       "</table>\n",
       "</div>"
      ],
      "text/plain": [
       "            comment                 date  \\\n",
       "count   3726.000000                 3726   \n",
       "unique          NaN                 1434   \n",
       "top             NaN  2018-09-13 00:00:00   \n",
       "freq            NaN                   12   \n",
       "first           NaN  2015-01-01 00:00:00   \n",
       "last            NaN  2019-12-31 00:00:00   \n",
       "mean      12.301396                  NaN   \n",
       "std       52.087151                  NaN   \n",
       "min        0.000000                  NaN   \n",
       "25%        0.000000                  NaN   \n",
       "50%        1.000000                  NaN   \n",
       "75%        6.000000                  NaN   \n",
       "max      887.000000                  NaN   \n",
       "\n",
       "                                                  filters       page_id  \\\n",
       "count                                                3726  3.726000e+03   \n",
       "unique                                                  5           NaN   \n",
       "top     eyJycF9jcmVhdGlvbl90aW1lOjAiOiJ7XCJuYW1lXCI6XC...           NaN   \n",
       "freq                                                  869           NaN   \n",
       "first                                                 NaN           NaN   \n",
       "last                                                  NaN           NaN   \n",
       "mean                                                  NaN  4.287853e+14   \n",
       "std                                                   NaN  2.789353e+14   \n",
       "min                                                   NaN  2.886973e+11   \n",
       "25%                                                   NaN  1.626793e+14   \n",
       "50%                                                   NaN  4.028069e+14   \n",
       "75%                                                   NaN  6.176043e+14   \n",
       "max                                                   NaN  9.674363e+14   \n",
       "\n",
       "                                                page_name  \\\n",
       "count                                                3726   \n",
       "unique                                                 16   \n",
       "top     Pusat Darah Negara Kementerian Kesihatan Malaysia   \n",
       "freq                                                  471   \n",
       "first                                                 NaN   \n",
       "last                                                  NaN   \n",
       "mean                                                  NaN   \n",
       "std                                                   NaN   \n",
       "min                                                   NaN   \n",
       "25%                                                   NaN   \n",
       "50%                                                   NaN   \n",
       "75%                                                   NaN   \n",
       "max                                                   NaN   \n",
       "\n",
       "                                                      raw  reaction  \\\n",
       "count                                                3726    3726.0   \n",
       "unique                                               3642     368.0   \n",
       "top     Jadual Kempen Derma Darah Johor Bahru\\n30K lik...       0.0   \n",
       "freq                                                    2     722.0   \n",
       "first                                                 NaN       NaN   \n",
       "last                                                  NaN       NaN   \n",
       "mean                                                  NaN       NaN   \n",
       "std                                                   NaN       NaN   \n",
       "min                                                   NaN       NaN   \n",
       "25%                                                   NaN       NaN   \n",
       "50%                                                   NaN       NaN   \n",
       "75%                                                   NaN       NaN   \n",
       "max                                                   NaN       NaN   \n",
       "\n",
       "        search_term        share  \\\n",
       "count          3726  3726.000000   \n",
       "unique            2          NaN   \n",
       "top     Derma Darah          NaN   \n",
       "freq           2393          NaN   \n",
       "first           NaN          NaN   \n",
       "last            NaN          NaN   \n",
       "mean            NaN     1.310252   \n",
       "std             NaN     5.026356   \n",
       "min             NaN     0.000000   \n",
       "25%             NaN     0.000000   \n",
       "50%             NaN     0.000000   \n",
       "75%             NaN     0.000000   \n",
       "max             NaN   137.000000   \n",
       "\n",
       "                                                    title  \n",
       "count                                                3726  \n",
       "unique                                               3221  \n",
       "top     …\"Like & Follow \"untuk info terkini mengenai d...  \n",
       "freq                                                   43  \n",
       "first                                                 NaN  \n",
       "last                                                  NaN  \n",
       "mean                                                  NaN  \n",
       "std                                                   NaN  \n",
       "min                                                   NaN  \n",
       "25%                                                   NaN  \n",
       "50%                                                   NaN  \n",
       "75%                                                   NaN  \n",
       "max                                                   NaN  "
      ]
     },
     "execution_count": 96,
     "metadata": {},
     "output_type": "execute_result"
    }
   ],
   "source": [
    "df2.describe(include='all')"
   ]
  },
  {
   "cell_type": "code",
   "execution_count": 97,
   "metadata": {
    "hidden": true
   },
   "outputs": [
    {
     "name": "stdout",
     "output_type": "stream",
     "text": [
      "Duplicates removed: 3\n"
     ]
    }
   ],
   "source": [
    "# remove duplicates\n",
    "df3 = df2.drop_duplicates(keep='first', inplace=False).reset_index(drop=True)\n",
    "print('Duplicates removed: %s' % (len(df2) - len(df3)))"
   ]
  },
  {
   "cell_type": "markdown",
   "metadata": {},
   "source": [
    "## Text Data Cleaning"
   ]
  },
  {
   "cell_type": "markdown",
   "metadata": {
    "heading_collapsed": true
   },
   "source": [
    "### Text Cleaner Class"
   ]
  },
  {
   "cell_type": "code",
   "execution_count": 86,
   "metadata": {
    "hidden": true
   },
   "outputs": [
    {
     "name": "stdout",
     "output_type": "stream",
     "text": [
      "TextCleaner: Unable to load pickle:  pickles/custom_stop.pkl\n",
      "TextCleaner: Unable to load pickle:  pickles/custom_translate.pkl\n",
      "TextCleaner: Unable to load pickle:  pickles/custom_dict.pkl\n",
      "Custom Stop Words: 0. Use \"cleaner.custom_stop\" to see existing custom stop words.\n",
      "Custom Dictionary: 0. Use \"cleaner.custom_dict\" to see existing custom dictionary.\n",
      "Custom Translation: 0. Use \"cleaner.custom_translate\" to see existing custom translation.\n"
     ]
    }
   ],
   "source": [
    "class TextCleaner:\n",
    "    def __init__(self,custom_stop=set(),custom_stop_path='pickles/custom_stop.pkl',\n",
    "                 custom_translate={},custom_translate_path='pickles/custom_translate.pkl',\n",
    "                custom_dict=set(),custom_dict_path='pickles/custom_dict.pkl'):\n",
    "        if custom_stop_path:\n",
    "            self.custom_stop_path = custom_stop_path\n",
    "            try:\n",
    "                self.custom_stop = pickle.load(open(custom_stop_path,'rb'))\n",
    "            except Exception as e:\n",
    "                self.custom_stop = None\n",
    "                print('TextCleaner: Unable to load pickle: ',custom_stop_path)\n",
    "        if custom_translate_path:\n",
    "            self.custom_translate_path = custom_translate_path\n",
    "            try:\n",
    "                self.custom_translate = pickle.load(open(custom_translate_path,'rb'))\n",
    "            except Exception as e:\n",
    "                self.custom_translate = None\n",
    "                print('TextCleaner: Unable to load pickle: ',custom_translate_path)\n",
    "        if custom_dict_path:\n",
    "            self.custom_dict_path = custom_dict_path\n",
    "            try:\n",
    "                self.custom_dict = pickle.load(open(custom_dict_path,'rb'))\n",
    "            except Exception as e:\n",
    "                self.custom_dict = None\n",
    "                print('TextCleaner: Unable to load pickle: ',custom_dict_path)\n",
    "        self.custom_stop = self.custom_stop or custom_stop\n",
    "        self.custom_translate = self.custom_translate or custom_translate\n",
    "        self.custom_dict = self.custom_dict or custom_dict\n",
    "    def save(self):\n",
    "        pickle.dump(self.custom_stop,open(self.custom_stop_path,'wb'))\n",
    "        pickle.dump(self.custom_translate,open(self.custom_translate_path,'wb'))\n",
    "        pickle.dump(self.custom_dict,open(self.custom_dict_path,'wb'))\n",
    "    def update_custom_stop(self,new_list):\n",
    "        self.custom_stop.update(new_list)\n",
    "        self.save()\n",
    "    def update_custom_translate(self,new_dict):\n",
    "        self.custom_translate.update(new_dict)\n",
    "        self.save()\n",
    "    def update_custom_dict(self,new_list):\n",
    "        self.custom_dict.update(new_list)\n",
    "        self.save()\n",
    "    def clear_custom_stop(self):\n",
    "        self.custom_stop = set()\n",
    "        self.save()\n",
    "    def clear_custom_translate(self):\n",
    "        self.custom_translate={}\n",
    "        self.save()\n",
    "    def clear_custom_dict(self):\n",
    "        self.custom_dict = set()\n",
    "        self.save()\n",
    "    def tokenize(self,text):\n",
    "        word_tokenize = nltk.tokenize.word_tokenize\n",
    "        text = text.lower()\n",
    "        return word_tokenize(text)\n",
    "    def clean_tokens(self,tokens):\n",
    "        tokens = [re.sub('[%s]' % re.escape(string.punctuation), '', text) for text in tokens]   #remove punctuations\n",
    "        tokens = [t for t in tokens if re.match(r'[^\\W\\d]*$', t)] # remove non-alphabetical tokens\n",
    "        tokens = [text for text in tokens if text!='']  #remove empty tokens\n",
    "        return tokens\n",
    "    def remove_stop_words(self,tokens):\n",
    "        stopset = set(nltk.corpus.stopwords.words('english'))\n",
    "        stopset.update(self.custom_stop)\n",
    "        new_tokens = []\n",
    "        for t in tokens:\n",
    "            if type(t) == str:\n",
    "                if t not in stopset:\n",
    "                    new_tokens.append(t)\n",
    "            elif (len(t) > 0):\n",
    "                new_tokens.append(self.remove_stop_words(t))\n",
    "            else:\n",
    "                print('Invalid value: ',t)\n",
    "        return new_tokens\n",
    "    def lemmatize(self, tokens):\n",
    "        lemmatizer = nltk.stem.wordnet.WordNetLemmatizer()\n",
    "        new_tokens = []\n",
    "        for t in tokens:\n",
    "            if type(t) == str:\n",
    "                new_tokens.append(lemmatizer.lemmatize(t))\n",
    "            elif (len(t) > 0):\n",
    "                new_tokens.append(self.lemmatize(t))\n",
    "            else:\n",
    "                print('Invalid value: ',t)\n",
    "        return new_tokens\n",
    "    def translate(self,tokens):\n",
    "        new_tokens = []\n",
    "        for t in tokens:\n",
    "            if type(t) == str:\n",
    "                if t in self.custom_translate:\n",
    "                    t = self.custom_translate[t]\n",
    "                new_tokens.append(t)\n",
    "            elif (len(t) > 0):\n",
    "                new_tokens.append(self.translate(t))\n",
    "            else:\n",
    "                print('Invalid value: ',t)\n",
    "        return new_tokens\n",
    "    def token_count(self,tokens, counts={}):\n",
    "        for t in tokens:\n",
    "            if type(t) == str:\n",
    "                if t in counts:\n",
    "                    counts[t] += 1\n",
    "                else:\n",
    "                    counts[t] = 1\n",
    "            elif (len(t) > 0):\n",
    "                counts = self.token_count(t, counts)\n",
    "            else:\n",
    "                print('Invalid value: ',t)\n",
    "        return counts\n",
    "    def perform_clean(self,series,min_tokens=2,show_intermediate=False):\n",
    "        print_bold('Tokenizing...')\n",
    "        series = series.progress_apply(self.tokenize)\n",
    "        if show_intermediate:\n",
    "            print('After Tokenize\\n', series)\n",
    "        \n",
    "        print_bold('Cleaning Tokens...')\n",
    "        series = series.progress_apply(self.clean_tokens)\n",
    "        if show_intermediate:\n",
    "            print('After Clean\\n',series)\n",
    "\n",
    "        print_bold('Removing Stop Words...')\n",
    "        series = series.progress_apply(self.remove_stop_words)\n",
    "        if show_intermediate:\n",
    "            print('\\nAfter Stopword Removal\\n ', series)\n",
    "\n",
    "        print_bold('Lemmatizing...')\n",
    "        series = series.progress_apply(self.lemmatize)\n",
    "        if show_intermediate:\n",
    "            print('\\nAfter Lemmatization\\n',series)\n",
    "            \n",
    "        print_bold('Translating...')\n",
    "        series = series.progress_apply(self.translate)\n",
    "        if show_intermediate:\n",
    "            print('\\nAfter Translation\\n',series)\n",
    "\n",
    "        #remove posts with less than n tokens\n",
    "        min_tokens = 2\n",
    "        print_bold('Removing posts with less than %s words...' % min_tokens)\n",
    "        series_count = series.apply(len)\n",
    "        series,series_removed = series[series_count >= min_tokens], series[series_count < min_tokens]\n",
    "        print('%s posts removed:' % len(series_removed))\n",
    "        print(series_removed)\n",
    "        if show_intermediate:\n",
    "            print('\\nAfter removing posts\\n',series)\n",
    "        return series   \n",
    "    def non_dict(self, tokens, min_occurrence=5):\n",
    "        dict_words = set(nltk.corpus.words.words())\n",
    "        dict_words.update(set(i for i in nltk.corpus.wordnet.words()))\n",
    "        dict_words.update(self.custom_dict)\n",
    "#         print('total dict words: ',len(dict_words))\n",
    "        non_dict_words = []\n",
    "        word_counts = self.token_count(tokens,counts={})\n",
    "        for (k,v) in word_counts.items():\n",
    "            if k not in dict_words and v >= min_occurrence:\n",
    "                non_dict_words.append((k,v))\n",
    "        non_dict_words.sort(key=lambda x: x[1], reverse=True)\n",
    "        return non_dict_words\n",
    "        \n",
    "cleaner = TextCleaner()\n",
    "print('Custom Stop Words: %s. Use \"cleaner.custom_stop\" to see existing custom stop words.' % len(cleaner.custom_stop))\n",
    "print('Custom Dictionary: %s. Use \"cleaner.custom_dict\" to see existing custom dictionary.' % len(cleaner.custom_dict))\n",
    "print('Custom Translation: %s. Use \"cleaner.custom_translate\" to see existing custom translation.' % len(cleaner.custom_translate))"
   ]
  },
  {
   "cell_type": "markdown",
   "metadata": {},
   "source": [
    "### Perform Cleaning"
   ]
  },
  {
   "cell_type": "code",
   "execution_count": 98,
   "metadata": {},
   "outputs": [
    {
     "data": {
      "application/vnd.jupyter.widget-view+json": {
       "model_id": "d02caf45d3a74f6ab6c24e1ce2ec9a74",
       "version_major": 2,
       "version_minor": 0
      },
      "text/plain": [
       "HBox(children=(HTML(value=''), FloatProgress(value=0.0, max=3723.0), HTML(value='')))"
      ]
     },
     "metadata": {},
     "output_type": "display_data"
    },
    {
     "name": "stdout",
     "output_type": "stream",
     "text": [
      "\n"
     ]
    },
    {
     "data": {
      "application/vnd.jupyter.widget-view+json": {
       "model_id": "c2dc6f3523494917bbb346d07097abe2",
       "version_major": 2,
       "version_minor": 0
      },
      "text/plain": [
       "HBox(children=(HTML(value=''), FloatProgress(value=0.0, max=3723.0), HTML(value='')))"
      ]
     },
     "metadata": {},
     "output_type": "display_data"
    },
    {
     "name": "stdout",
     "output_type": "stream",
     "text": [
      "\n"
     ]
    },
    {
     "data": {
      "text/plain": [
       "1641    [kempen, derma, darah, sempena, hari, thaipusa...\n",
       "1721    [shoppers, please, join, us, for, blood, donat...\n",
       "987     [yeahh, jadual, kempen, derma, darah, dah, ada...\n",
       "2259                                             [penang]\n",
       "3429    [tabung, darah, hospital, miri, added, new, ph...\n",
       "Name: tokens, dtype: object"
      ]
     },
     "execution_count": 98,
     "metadata": {},
     "output_type": "execute_result"
    }
   ],
   "source": [
    "#tokenize and clean post titles\n",
    "df3['tokens'] = df3['title'].progress_apply(cleaner.tokenize)\n",
    "df3['tokens'] = df3['tokens'].progress_apply(cleaner.clean_tokens)\n",
    "df3['tokens'].sample(5)"
   ]
  },
  {
   "cell_type": "code",
   "execution_count": 101,
   "metadata": {
    "code_folding": []
   },
   "outputs": [
    {
     "name": "stdout",
     "output_type": "stream",
     "text": [
      "count    3723.000000\n",
      "mean       25.414451\n",
      "std        44.716552\n",
      "min         0.000000\n",
      "25%         7.000000\n",
      "50%        14.000000\n",
      "75%        28.000000\n",
      "max       646.000000\n",
      "Name: count, dtype: float64\n"
     ]
    },
    {
     "data": {
      "text/plain": [
       "<matplotlib.axes._subplots.AxesSubplot at 0x1acf3c08>"
      ]
     },
     "execution_count": 101,
     "metadata": {},
     "output_type": "execute_result"
    },
    {
     "data": {
      "image/png": "[encoded data removed]",
      "text/plain": [
       "<Figure size 432x288 with 1 Axes>"
      ]
     },
     "metadata": {
      "needs_background": "light"
     },
     "output_type": "display_data"
    }
   ],
   "source": [
    "df3['count'] = df3['tokens'].apply(len)\n",
    "print(df3['count'].describe())\n",
    "df3['count'].plot.density()"
   ]
  },
  {
   "cell_type": "code",
   "execution_count": 106,
   "metadata": {},
   "outputs": [
    {
     "name": "stdout",
     "output_type": "stream",
     "text": [
      "Number of Posts with no tokens: 16\n"
     ]
    },
    {
     "data": {
      "text/html": [
       "<div>\n",
       "<style scoped>\n",
       "    .dataframe tbody tr th:only-of-type {\n",
       "        vertical-align: middle;\n",
       "    }\n",
       "\n",
       "    .dataframe tbody tr th {\n",
       "        vertical-align: top;\n",
       "    }\n",
       "\n",
       "    .dataframe thead th {\n",
       "        text-align: right;\n",
       "    }\n",
       "</style>\n",
       "<table border=\"1\" class=\"dataframe\">\n",
       "  <thead>\n",
       "    <tr style=\"text-align: right;\">\n",
       "      <th></th>\n",
       "      <th>comment</th>\n",
       "      <th>page_id</th>\n",
       "      <th>share</th>\n",
       "      <th>count</th>\n",
       "    </tr>\n",
       "  </thead>\n",
       "  <tbody>\n",
       "    <tr>\n",
       "      <td>count</td>\n",
       "      <td>3707.000000</td>\n",
       "      <td>3.707000e+03</td>\n",
       "      <td>3707.000000</td>\n",
       "      <td>3707.000000</td>\n",
       "    </tr>\n",
       "    <tr>\n",
       "      <td>mean</td>\n",
       "      <td>12.361209</td>\n",
       "      <td>4.272209e+14</td>\n",
       "      <td>1.309415</td>\n",
       "      <td>25.524144</td>\n",
       "    </tr>\n",
       "    <tr>\n",
       "      <td>std</td>\n",
       "      <td>52.213697</td>\n",
       "      <td>2.776964e+14</td>\n",
       "      <td>5.030831</td>\n",
       "      <td>44.781717</td>\n",
       "    </tr>\n",
       "    <tr>\n",
       "      <td>min</td>\n",
       "      <td>0.000000</td>\n",
       "      <td>2.886973e+11</td>\n",
       "      <td>0.000000</td>\n",
       "      <td>1.000000</td>\n",
       "    </tr>\n",
       "    <tr>\n",
       "      <td>25%</td>\n",
       "      <td>0.000000</td>\n",
       "      <td>1.626793e+14</td>\n",
       "      <td>0.000000</td>\n",
       "      <td>7.000000</td>\n",
       "    </tr>\n",
       "    <tr>\n",
       "      <td>50%</td>\n",
       "      <td>1.000000</td>\n",
       "      <td>4.028069e+14</td>\n",
       "      <td>0.000000</td>\n",
       "      <td>14.000000</td>\n",
       "    </tr>\n",
       "    <tr>\n",
       "      <td>75%</td>\n",
       "      <td>6.500000</td>\n",
       "      <td>6.176043e+14</td>\n",
       "      <td>0.000000</td>\n",
       "      <td>28.000000</td>\n",
       "    </tr>\n",
       "    <tr>\n",
       "      <td>max</td>\n",
       "      <td>887.000000</td>\n",
       "      <td>9.674363e+14</td>\n",
       "      <td>137.000000</td>\n",
       "      <td>646.000000</td>\n",
       "    </tr>\n",
       "  </tbody>\n",
       "</table>\n",
       "</div>"
      ],
      "text/plain": [
       "           comment       page_id        share        count\n",
       "count  3707.000000  3.707000e+03  3707.000000  3707.000000\n",
       "mean     12.361209  4.272209e+14     1.309415    25.524144\n",
       "std      52.213697  2.776964e+14     5.030831    44.781717\n",
       "min       0.000000  2.886973e+11     0.000000     1.000000\n",
       "25%       0.000000  1.626793e+14     0.000000     7.000000\n",
       "50%       1.000000  4.028069e+14     0.000000    14.000000\n",
       "75%       6.500000  6.176043e+14     0.000000    28.000000\n",
       "max     887.000000  9.674363e+14   137.000000   646.000000"
      ]
     },
     "execution_count": 106,
     "metadata": {},
     "output_type": "execute_result"
    }
   ],
   "source": [
    "# Remove posts with no tokens\n",
    "print('Number of Posts with no tokens: %s' % (df3['count']==0).sum())\n",
    "df3 = df3[df3['count']!=0].reset_index(drop=True)\n",
    "df3.describe()"
   ]
  },
  {
   "cell_type": "code",
   "execution_count": 107,
   "metadata": {},
   "outputs": [
    {
     "data": {
      "text/html": [
       "<div>\n",
       "<style scoped>\n",
       "    .dataframe tbody tr th:only-of-type {\n",
       "        vertical-align: middle;\n",
       "    }\n",
       "\n",
       "    .dataframe tbody tr th {\n",
       "        vertical-align: top;\n",
       "    }\n",
       "\n",
       "    .dataframe thead th {\n",
       "        text-align: right;\n",
       "    }\n",
       "</style>\n",
       "<table border=\"1\" class=\"dataframe\">\n",
       "  <thead>\n",
       "    <tr style=\"text-align: right;\">\n",
       "      <th></th>\n",
       "      <th>comment</th>\n",
       "      <th>date</th>\n",
       "      <th>filters</th>\n",
       "      <th>page_id</th>\n",
       "      <th>page_name</th>\n",
       "      <th>raw</th>\n",
       "      <th>reaction</th>\n",
       "      <th>search_term</th>\n",
       "      <th>share</th>\n",
       "      <th>title</th>\n",
       "      <th>tokens</th>\n",
       "      <th>count</th>\n",
       "    </tr>\n",
       "  </thead>\n",
       "  <tbody>\n",
       "    <tr>\n",
       "      <td>827</td>\n",
       "      <td>19</td>\n",
       "      <td>2016-09-02</td>\n",
       "      <td>eyJycF9jcmVhdGlvbl90aW1lOjAiOiJ7XCJuYW1lXCI6XC...</td>\n",
       "      <td>216075042059565</td>\n",
       "      <td>Derma Darah Ipoh</td>\n",
       "      <td>Derma Darah Ipoh\\n11K like this · Blood bank\\n...</td>\n",
       "      <td>81</td>\n",
       "      <td>Derma Darah</td>\n",
       "      <td>0</td>\n",
       "      <td>Kaunter Pendermaan Darah di Unit Tabung Darah ...</td>\n",
       "      <td>[kaunter, pendermaan, darah, di, unit, tabung,...</td>\n",
       "      <td>42</td>\n",
       "    </tr>\n",
       "    <tr>\n",
       "      <td>2182</td>\n",
       "      <td>0</td>\n",
       "      <td>2018-01-25</td>\n",
       "      <td>eyJycF9jcmVhdGlvbl90aW1lOjAiOiJ7XCJuYW1lXCI6XC...</td>\n",
       "      <td>101247646587060</td>\n",
       "      <td>Kempen derma Darah Malaysia</td>\n",
       "      <td>Kempen derma Darah Malaysia\\nPage · 12K like t...</td>\n",
       "      <td>0</td>\n",
       "      <td>Blood Donation</td>\n",
       "      <td>0</td>\n",
       "      <td>Sarawak/Kuching :)</td>\n",
       "      <td>[sarawakkuching]</td>\n",
       "      <td>1</td>\n",
       "    </tr>\n",
       "    <tr>\n",
       "      <td>620</td>\n",
       "      <td>0</td>\n",
       "      <td>2016-05-24</td>\n",
       "      <td>eyJycF9jcmVhdGlvbl90aW1lOjAiOiJ7XCJuYW1lXCI6XC...</td>\n",
       "      <td>474418902733850</td>\n",
       "      <td>Derma Darah Kedah Perlis - DDKP</td>\n",
       "      <td>Derma Darah Kedah Perlis - DDKP\\nPage · 12K li...</td>\n",
       "      <td>13</td>\n",
       "      <td>Derma Darah</td>\n",
       "      <td>3</td>\n",
       "      <td>Program Derma darah di Langkawi hari ini...seh...</td>\n",
       "      <td>[program, derma, darah, di, langkawi, hari, in...</td>\n",
       "      <td>11</td>\n",
       "    </tr>\n",
       "    <tr>\n",
       "      <td>2392</td>\n",
       "      <td>1</td>\n",
       "      <td>2018-11-21</td>\n",
       "      <td>eyJycF9jcmVhdGlvbl90aW1lOjAiOiJ7XCJuYW1lXCI6XC...</td>\n",
       "      <td>101247646587060</td>\n",
       "      <td>Kempen derma Darah Malaysia</td>\n",
       "      <td>Kempen derma Darah Malaysia\\nPage · 12K like t...</td>\n",
       "      <td>12</td>\n",
       "      <td>Derma Darah</td>\n",
       "      <td>0</td>\n",
       "      <td>Klang Parade Mall</td>\n",
       "      <td>[klang, parade, mall]</td>\n",
       "      <td>3</td>\n",
       "    </tr>\n",
       "    <tr>\n",
       "      <td>1746</td>\n",
       "      <td>28</td>\n",
       "      <td>2018-05-28</td>\n",
       "      <td>eyJycF9jcmVhdGlvbl90aW1lOjAiOiJ7XCJuYW1lXCI6XC...</td>\n",
       "      <td>617604258269881</td>\n",
       "      <td>Jadual Kempen Derma Darah Johor Bahru</td>\n",
       "      <td>Jadual Kempen Derma Darah Johor Bahru\\n30K lik...</td>\n",
       "      <td>67</td>\n",
       "      <td>Blood Donation</td>\n",
       "      <td>0</td>\n",
       "      <td>Next kempen untuk bulan 5... JOM MENDERMA !!!💪...</td>\n",
       "      <td>[next, kempen, untuk, bulan, jom, menderma, me...</td>\n",
       "      <td>18</td>\n",
       "    </tr>\n",
       "  </tbody>\n",
       "</table>\n",
       "</div>"
      ],
      "text/plain": [
       "      comment       date                                            filters  \\\n",
       "827        19 2016-09-02  eyJycF9jcmVhdGlvbl90aW1lOjAiOiJ7XCJuYW1lXCI6XC...   \n",
       "2182        0 2018-01-25  eyJycF9jcmVhdGlvbl90aW1lOjAiOiJ7XCJuYW1lXCI6XC...   \n",
       "620         0 2016-05-24  eyJycF9jcmVhdGlvbl90aW1lOjAiOiJ7XCJuYW1lXCI6XC...   \n",
       "2392        1 2018-11-21  eyJycF9jcmVhdGlvbl90aW1lOjAiOiJ7XCJuYW1lXCI6XC...   \n",
       "1746       28 2018-05-28  eyJycF9jcmVhdGlvbl90aW1lOjAiOiJ7XCJuYW1lXCI6XC...   \n",
       "\n",
       "              page_id                              page_name  \\\n",
       "827   216075042059565                       Derma Darah Ipoh   \n",
       "2182  101247646587060            Kempen derma Darah Malaysia   \n",
       "620   474418902733850        Derma Darah Kedah Perlis - DDKP   \n",
       "2392  101247646587060            Kempen derma Darah Malaysia   \n",
       "1746  617604258269881  Jadual Kempen Derma Darah Johor Bahru   \n",
       "\n",
       "                                                    raw reaction  \\\n",
       "827   Derma Darah Ipoh\\n11K like this · Blood bank\\n...       81   \n",
       "2182  Kempen derma Darah Malaysia\\nPage · 12K like t...        0   \n",
       "620   Derma Darah Kedah Perlis - DDKP\\nPage · 12K li...       13   \n",
       "2392  Kempen derma Darah Malaysia\\nPage · 12K like t...       12   \n",
       "1746  Jadual Kempen Derma Darah Johor Bahru\\n30K lik...       67   \n",
       "\n",
       "         search_term  share  \\\n",
       "827      Derma Darah      0   \n",
       "2182  Blood Donation      0   \n",
       "620      Derma Darah      3   \n",
       "2392     Derma Darah      0   \n",
       "1746  Blood Donation      0   \n",
       "\n",
       "                                                  title  \\\n",
       "827   Kaunter Pendermaan Darah di Unit Tabung Darah ...   \n",
       "2182                                 Sarawak/Kuching :)   \n",
       "620   Program Derma darah di Langkawi hari ini...seh...   \n",
       "2392                                  Klang Parade Mall   \n",
       "1746  Next kempen untuk bulan 5... JOM MENDERMA !!!💪...   \n",
       "\n",
       "                                                 tokens  count  \n",
       "827   [kaunter, pendermaan, darah, di, unit, tabung,...     42  \n",
       "2182                                   [sarawakkuching]      1  \n",
       "620   [program, derma, darah, di, langkawi, hari, in...     11  \n",
       "2392                              [klang, parade, mall]      3  \n",
       "1746  [next, kempen, untuk, bulan, jom, menderma, me...     18  "
      ]
     },
     "execution_count": 107,
     "metadata": {},
     "output_type": "execute_result"
    }
   ],
   "source": [
    "# after cleaning\n",
    "df_clean = df3\n",
    "df_clean.sample(5)"
   ]
  },
  {
   "cell_type": "markdown",
   "metadata": {},
   "source": [
    "## Store Intermediate Results and Export notebook"
   ]
  },
  {
   "cell_type": "code",
   "execution_count": 110,
   "metadata": {},
   "outputs": [],
   "source": [
    "df_clean.to_pickle('pickles/df_clean.pkl')"
   ]
  },
  {
   "cell_type": "code",
   "execution_count": 111,
   "metadata": {},
   "outputs": [
    {
     "name": "stderr",
     "output_type": "stream",
     "text": [
      "[NbConvertApp] Converting notebook 1. Data Cleaning.ipynb to html_ch\n",
      "[NbConvertApp] Writing 401965 bytes to .\\html\\1. Data Cleaning.html\n"
     ]
    }
   ],
   "source": [
    "# Convert notebook to html\n",
    "!jupyter nbconvert --to html_ch --output-dir='.\\html' \"1. Data Cleaning.ipynb\""
   ]
  },
  {
   "cell_type": "markdown",
   "metadata": {},
   "source": [
    "# End"
   ]
  },
  {
   "cell_type": "code",
   "execution_count": null,
   "metadata": {},
   "outputs": [],
   "source": []
  }
 ],
 "metadata": {
  "kernelspec": {
   "display_name": "Python 3",
   "language": "python",
   "name": "python3"
  },
  "language_info": {
   "codemirror_mode": {
    "name": "ipython",
    "version": 3
   },
   "file_extension": ".py",
   "mimetype": "text/x-python",
   "name": "python",
   "nbconvert_exporter": "python",
   "pygments_lexer": "ipython3",
   "version": "3.7.4"
  }
 },
 "nbformat": 4,
 "nbformat_minor": 2
}
